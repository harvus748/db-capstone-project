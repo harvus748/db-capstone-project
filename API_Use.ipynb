{
 "cells": [
  {
   "cell_type": "code",
   "execution_count": 21,
   "metadata": {},
   "outputs": [],
   "source": [
    "import mysql.connector as connector\n",
    "\n",
    "connection = connector.connect(user = \"harvey_elvidge\", password = \"letsfinishthis80\", database=\"LittleLemonDB\")"
   ]
  },
  {
   "cell_type": "code",
   "execution_count": 20,
   "metadata": {},
   "outputs": [
    {
     "name": "stdout",
     "output_type": "stream",
     "text": [
      "('Bookings',)\n",
      "('Customer_Details',)\n",
      "('Menu',)\n",
      "('Order_Delivery_Status',)\n",
      "('Orders',)\n",
      "('ordersview',)\n",
      "('Staff_Information',)\n"
     ]
    }
   ],
   "source": [
    "cursor = connection.cursor()\n",
    "\n",
    "show_tables_query = '''SHOW tables'''\n",
    "cursor.execute(show_tables_query)\n",
    "\n",
    "# Retrieve query results\n",
    "result = cursor.fetchall()\n",
    "\n",
    "# Iterate over the results\n",
    "for row in result:\n",
    "    print(row)\n",
    "\n",
    "# Close the cursor and connection\n",
    "cursor.close()\n",
    "connection.close()"
   ]
  },
  {
   "cell_type": "code",
   "execution_count": 22,
   "metadata": {},
   "outputs": [
    {
     "name": "stdout",
     "output_type": "stream",
     "text": [
      "('Michael Johnson', 'michael.johnson@example.com')\n",
      "('Emily Davis', 'emily.davis@example.com')\n",
      "('Christopher Anderson', 'christopher.anderson@example.com')\n",
      "('Jessica Martinez', 'jessica.martinez@example.com')\n",
      "('Daniel Hernandez', 'daniel.hernandez@example.com')\n",
      "('Sophia Moore', 'sophia.moore@example.com')\n",
      "('Joseph Lee', 'joseph.lee@example.com')\n",
      "('Mia Walker', 'mia.walker@example.com')\n",
      "('Alexander Allen', 'alexander.allen@example.com')\n",
      "('Ella Green', 'ella.green@example.com')\n"
     ]
    }
   ],
   "source": [
    "cursor = connection.cursor()\n",
    "\n",
    "query_with_join = '''\n",
    "SELECT \n",
    "\tCustomer_Name,\n",
    "    Contact_Details\n",
    "FROM CUSTOMER_DETAILS cd\n",
    "INNER JOIN BOOKINGS b\n",
    "ON cd.Customer_Details_ID = b.Customer_Details_ID\n",
    "INNER JOIN ORDERS o\n",
    "ON b.Bookings_ID = o.Bookings_ID\n",
    "WHERE o.Total_Cost > 60;\n",
    "'''\n",
    "cursor.execute(query_with_join)\n",
    "\n",
    "# Retrieve query results\n",
    "result = cursor.fetchall()\n",
    "\n",
    "# Iterate over the results\n",
    "for row in result:\n",
    "    print(row)\n",
    "\n",
    "# Close the cursor and connection\n",
    "cursor.close()\n",
    "connection.close()"
   ]
  },
  {
   "cell_type": "code",
   "execution_count": null,
   "metadata": {},
   "outputs": [],
   "source": []
  },
  {
   "cell_type": "code",
   "execution_count": null,
   "metadata": {},
   "outputs": [],
   "source": []
  },
  {
   "cell_type": "code",
   "execution_count": null,
   "metadata": {},
   "outputs": [],
   "source": []
  },
  {
   "cell_type": "code",
   "execution_count": null,
   "metadata": {},
   "outputs": [],
   "source": []
  },
  {
   "cell_type": "code",
   "execution_count": null,
   "metadata": {},
   "outputs": [],
   "source": []
  },
  {
   "cell_type": "code",
   "execution_count": null,
   "metadata": {},
   "outputs": [],
   "source": []
  }
 ],
 "metadata": {
  "kernelspec": {
   "display_name": "base",
   "language": "python",
   "name": "python3"
  },
  "language_info": {
   "codemirror_mode": {
    "name": "ipython",
    "version": 3
   },
   "file_extension": ".py",
   "mimetype": "text/x-python",
   "name": "python",
   "nbconvert_exporter": "python",
   "pygments_lexer": "ipython3",
   "version": "3.9.13"
  }
 },
 "nbformat": 4,
 "nbformat_minor": 2
}
